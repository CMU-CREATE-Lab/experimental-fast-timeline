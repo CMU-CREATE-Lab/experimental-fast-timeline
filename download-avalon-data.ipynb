{
 "metadata": {
  "name": "",
  "signature": "sha256:565f94182aa61795c5205a919be2295fac3390ccdd8888d52f87002035cca21b"
 },
 "nbformat": 3,
 "nbformat_minor": 0,
 "worksheets": [
  {
   "cells": [
    {
     "cell_type": "code",
     "collapsed": false,
     "input": [
      "import csv, json, urllib2"
     ],
     "language": "python",
     "metadata": {},
     "outputs": [],
     "prompt_number": 24
    },
    {
     "cell_type": "code",
     "collapsed": false,
     "input": [
      "api_key = '8a2ce5c845ca323d80056aefd564f6f7305724a0476318e488c5ea380094ebc2'\n",
      "channels = ['PM25B_UG_M3']\n",
      "from_epochtime = 1388552400 # Jan 1 2014 EST\n",
      "to_epochtime = from_epochtime + 3600 * 20000\n",
      "\n",
      "url = ('https://esdr.cmucreatelab.org/api/v1/feeds/%s/channels/%s/export?from=%f&to=%f' %\n",
      "       (api_key, ','.join(channels), from_epochtime, to_epochtime))\n",
      "\n",
      "print url\n"
     ],
     "language": "python",
     "metadata": {},
     "outputs": [
      {
       "output_type": "stream",
       "stream": "stdout",
       "text": [
        "https://esdr.cmucreatelab.org/api/v1/feeds/8a2ce5c845ca323d80056aefd564f6f7305724a0476318e488c5ea380094ebc2/channels/PM25B_UG_M3/export?from=1388552400.000000&to=1460552400.000000\n"
       ]
      }
     ],
     "prompt_number": 19
    },
    {
     "cell_type": "code",
     "collapsed": false,
     "input": [
      "reader = csv.reader(urllib2.urlopen(url))\n",
      "header = reader.next()\n",
      "data = []\n",
      "for i in range(0, 10000):\n",
      "    row = reader.next()\n",
      "    data.append(float(row[0]) - from_epochtime)\n",
      "    data.append(float(row[1]))\n",
      "\n",
      "open('data.js', 'w').write('var data=Float32Array(%s)' % json.dumps(data))\n",
      "print 'Created data.js'"
     ],
     "language": "python",
     "metadata": {},
     "outputs": [
      {
       "output_type": "stream",
       "stream": "stdout",
       "text": [
        "Created data.js\n"
       ]
      }
     ],
     "prompt_number": 25
    },
    {
     "cell_type": "code",
     "collapsed": false,
     "input": [
      "!open data.js"
     ],
     "language": "python",
     "metadata": {},
     "outputs": [],
     "prompt_number": 26
    },
    {
     "cell_type": "code",
     "collapsed": false,
     "input": [],
     "language": "python",
     "metadata": {},
     "outputs": []
    }
   ],
   "metadata": {}
  }
 ]
}