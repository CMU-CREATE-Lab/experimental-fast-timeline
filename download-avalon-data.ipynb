{
 "metadata": {
  "name": "",
  "signature": "sha256:bcb15458a6705c3f31003254a61ce266d8e62d1381f24e1d0f5d1a35218e98f0"
 },
 "nbformat": 3,
 "nbformat_minor": 0,
 "worksheets": [
  {
   "cells": [
    {
     "cell_type": "code",
     "collapsed": false,
     "input": [
      "import csv, json, urllib2"
     ],
     "language": "python",
     "metadata": {},
     "outputs": [],
     "prompt_number": 1
    },
    {
     "cell_type": "code",
     "collapsed": false,
     "input": [
      "api_key = '8a2ce5c845ca323d80056aefd564f6f7305724a0476318e488c5ea380094ebc2'\n",
      "channels = ['PM25B_UG_M3']\n",
      "from_epochtime = 1357016400  # Jan 1 2013 EST\n",
      "to_epochtime = 1427715613 # March 2015\n",
      "\n",
      "url = ('https://esdr.cmucreatelab.org/api/v1/feeds/%s/channels/%s/export?from=%f&to=%f' %\n",
      "       (api_key, ','.join(channels), from_epochtime, to_epochtime))\n",
      "\n",
      "print url"
     ],
     "language": "python",
     "metadata": {},
     "outputs": [
      {
       "output_type": "stream",
       "stream": "stdout",
       "text": [
        "https://esdr.cmucreatelab.org/api/v1/feeds/8a2ce5c845ca323d80056aefd564f6f7305724a0476318e488c5ea380094ebc2/channels/PM25B_UG_M3/export?from=1388552400.000000&to=1460552400.000000\n"
       ]
      }
     ],
     "prompt_number": 2
    },
    {
     "cell_type": "code",
     "collapsed": false,
     "input": [
      "reader = csv.reader(urllib2.urlopen(url))\n",
      "header = reader.next()\n",
      "data = []\n",
      "for row in reader:\n",
      "    data.append(float(row[0]) - from_epochtime)\n",
      "    data.append(float(row[1]))\n",
      "\n",
      "open('data.js', 'w').write('var data = new Float32Array(%s)' % json.dumps(data))\n",
      "print 'Created data.js with %d samples' % (len(data) / 2)"
     ],
     "language": "python",
     "metadata": {},
     "outputs": [
      {
       "output_type": "stream",
       "stream": "stdout",
       "text": [
        "Created data.js with 10703 samples\n"
       ]
      }
     ],
     "prompt_number": 4
    },
    {
     "cell_type": "code",
     "collapsed": false,
     "input": [],
     "language": "python",
     "metadata": {},
     "outputs": []
    }
   ],
   "metadata": {}
  }
 ]
}